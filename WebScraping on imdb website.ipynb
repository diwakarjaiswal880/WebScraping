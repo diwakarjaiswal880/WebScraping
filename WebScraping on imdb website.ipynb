{
 "cells": [
  {
   "cell_type": "code",
   "execution_count": 17,
   "metadata": {},
   "outputs": [],
   "source": [
    "# importing libraries\n",
    "import requests\n",
    "from bs4 import BeautifulSoup"
   ]
  },
  {
   "cell_type": "code",
   "execution_count": 18,
   "metadata": {},
   "outputs": [],
   "source": [
    "# specify url\n",
    "url='https://www.imdb.com/chart/top/?ref_=nv_mv_250'"
   ]
  },
  {
   "cell_type": "code",
   "execution_count": 19,
   "metadata": {},
   "outputs": [],
   "source": [
    "# Package the request, send the request and catch the response\n",
    "page=requests.get(url)"
   ]
  },
  {
   "cell_type": "code",
   "execution_count": 16,
   "metadata": {},
   "outputs": [],
   "source": [
    "# Extracts the response as html\n",
    "html_doc=page.text"
   ]
  },
  {
   "cell_type": "code",
   "execution_count": 5,
   "metadata": {},
   "outputs": [],
   "source": [
    "# Create a BeautifulSoup object from the HTML\n",
    "soup=BeautifulSoup(html_doc,'lxml')"
   ]
  },
  {
   "cell_type": "code",
   "execution_count": 6,
   "metadata": {},
   "outputs": [
    {
     "data": {
      "text/plain": [
       "'IMDb Top 250 - IMDb'"
      ]
     },
     "execution_count": 6,
     "metadata": {},
     "output_type": "execute_result"
    }
   ],
   "source": [
    "# Print the title \n",
    "soup.title.text"
   ]
  },
  {
   "cell_type": "code",
   "execution_count": 8,
   "metadata": {},
   "outputs": [],
   "source": [
    "# Locating class\n",
    "content=soup.find(class_=\"lister-list\")"
   ]
  },
  {
   "cell_type": "code",
   "execution_count": 9,
   "metadata": {},
   "outputs": [],
   "source": [
    "# Extract data\n",
    "rank=[]\n",
    "title=[]\n",
    "year=[]\n",
    "link=[]\n",
    "rating=[]\n",
    "\n",
    "\n",
    "for tab in content.find_all('td',class_='titleColumn'):\n",
    "        link.append('https://www.imdb.com' + tab.find('a').get('href'))\n",
    "        \n",
    "        title.append(tab.find('a').text)\n",
    "        \n",
    "        lst=[i for i in tab.text.split()]\n",
    "        rank.append(lst[0].strip('.'))\n",
    "        year.append(lst[-1].strip('()'))\n",
    "\n",
    "for rate in content.find_all('td',class_='ratingColumn imdbRating'):\n",
    "    rating.append(rate.strong.text)"
   ]
  },
  {
   "cell_type": "code",
   "execution_count": 10,
   "metadata": {},
   "outputs": [],
   "source": [
    "# import pandas library\n",
    "import pandas as pd"
   ]
  },
  {
   "cell_type": "code",
   "execution_count": 11,
   "metadata": {},
   "outputs": [
    {
     "data": {
      "text/html": [
       "<div>\n",
       "<style scoped>\n",
       "    .dataframe tbody tr th:only-of-type {\n",
       "        vertical-align: middle;\n",
       "    }\n",
       "\n",
       "    .dataframe tbody tr th {\n",
       "        vertical-align: top;\n",
       "    }\n",
       "\n",
       "    .dataframe thead th {\n",
       "        text-align: right;\n",
       "    }\n",
       "</style>\n",
       "<table border=\"1\" class=\"dataframe\">\n",
       "  <thead>\n",
       "    <tr style=\"text-align: right;\">\n",
       "      <th></th>\n",
       "      <th>rank</th>\n",
       "      <th>title</th>\n",
       "      <th>year</th>\n",
       "      <th>rating</th>\n",
       "      <th>link</th>\n",
       "    </tr>\n",
       "  </thead>\n",
       "  <tbody>\n",
       "    <tr>\n",
       "      <td>0</td>\n",
       "      <td>1</td>\n",
       "      <td>The Shawshank Redemption</td>\n",
       "      <td>1994</td>\n",
       "      <td>9.2</td>\n",
       "      <td>https://www.imdb.com/title/tt0111161/</td>\n",
       "    </tr>\n",
       "    <tr>\n",
       "      <td>1</td>\n",
       "      <td>2</td>\n",
       "      <td>The Godfather</td>\n",
       "      <td>1972</td>\n",
       "      <td>9.1</td>\n",
       "      <td>https://www.imdb.com/title/tt0068646/</td>\n",
       "    </tr>\n",
       "    <tr>\n",
       "      <td>2</td>\n",
       "      <td>3</td>\n",
       "      <td>The Godfather: Part II</td>\n",
       "      <td>1974</td>\n",
       "      <td>9.0</td>\n",
       "      <td>https://www.imdb.com/title/tt0071562/</td>\n",
       "    </tr>\n",
       "    <tr>\n",
       "      <td>3</td>\n",
       "      <td>4</td>\n",
       "      <td>The Dark Knight</td>\n",
       "      <td>2008</td>\n",
       "      <td>9.0</td>\n",
       "      <td>https://www.imdb.com/title/tt0468569/</td>\n",
       "    </tr>\n",
       "    <tr>\n",
       "      <td>4</td>\n",
       "      <td>5</td>\n",
       "      <td>12 Angry Men</td>\n",
       "      <td>1957</td>\n",
       "      <td>8.9</td>\n",
       "      <td>https://www.imdb.com/title/tt0050083/</td>\n",
       "    </tr>\n",
       "    <tr>\n",
       "      <td>5</td>\n",
       "      <td>6</td>\n",
       "      <td>Schindler's List</td>\n",
       "      <td>1993</td>\n",
       "      <td>8.9</td>\n",
       "      <td>https://www.imdb.com/title/tt0108052/</td>\n",
       "    </tr>\n",
       "    <tr>\n",
       "      <td>6</td>\n",
       "      <td>7</td>\n",
       "      <td>The Lord of the Rings: The Return of the King</td>\n",
       "      <td>2003</td>\n",
       "      <td>8.9</td>\n",
       "      <td>https://www.imdb.com/title/tt0167260/</td>\n",
       "    </tr>\n",
       "    <tr>\n",
       "      <td>7</td>\n",
       "      <td>8</td>\n",
       "      <td>Pulp Fiction</td>\n",
       "      <td>1994</td>\n",
       "      <td>8.8</td>\n",
       "      <td>https://www.imdb.com/title/tt0110912/</td>\n",
       "    </tr>\n",
       "    <tr>\n",
       "      <td>8</td>\n",
       "      <td>9</td>\n",
       "      <td>Il buono, il brutto, il cattivo</td>\n",
       "      <td>1966</td>\n",
       "      <td>8.8</td>\n",
       "      <td>https://www.imdb.com/title/tt0060196/</td>\n",
       "    </tr>\n",
       "    <tr>\n",
       "      <td>9</td>\n",
       "      <td>10</td>\n",
       "      <td>The Lord of the Rings: The Fellowship of the Ring</td>\n",
       "      <td>2001</td>\n",
       "      <td>8.8</td>\n",
       "      <td>https://www.imdb.com/title/tt0120737/</td>\n",
       "    </tr>\n",
       "  </tbody>\n",
       "</table>\n",
       "</div>"
      ],
      "text/plain": [
       "  rank                                              title  year rating  \\\n",
       "0    1                           The Shawshank Redemption  1994    9.2   \n",
       "1    2                                      The Godfather  1972    9.1   \n",
       "2    3                             The Godfather: Part II  1974    9.0   \n",
       "3    4                                    The Dark Knight  2008    9.0   \n",
       "4    5                                       12 Angry Men  1957    8.9   \n",
       "5    6                                   Schindler's List  1993    8.9   \n",
       "6    7      The Lord of the Rings: The Return of the King  2003    8.9   \n",
       "7    8                                       Pulp Fiction  1994    8.8   \n",
       "8    9                    Il buono, il brutto, il cattivo  1966    8.8   \n",
       "9   10  The Lord of the Rings: The Fellowship of the Ring  2001    8.8   \n",
       "\n",
       "                                    link  \n",
       "0  https://www.imdb.com/title/tt0111161/  \n",
       "1  https://www.imdb.com/title/tt0068646/  \n",
       "2  https://www.imdb.com/title/tt0071562/  \n",
       "3  https://www.imdb.com/title/tt0468569/  \n",
       "4  https://www.imdb.com/title/tt0050083/  \n",
       "5  https://www.imdb.com/title/tt0108052/  \n",
       "6  https://www.imdb.com/title/tt0167260/  \n",
       "7  https://www.imdb.com/title/tt0110912/  \n",
       "8  https://www.imdb.com/title/tt0060196/  \n",
       "9  https://www.imdb.com/title/tt0120737/  "
      ]
     },
     "execution_count": 11,
     "metadata": {},
     "output_type": "execute_result"
    }
   ],
   "source": [
    "# creating dataframe\n",
    "column=('rank','title','year','rating','link')\n",
    "df=pd.DataFrame(list(zip(rank,title,year,rating,link)), columns=column)\n",
    "df.head(10)"
   ]
  },
  {
   "cell_type": "code",
   "execution_count": 21,
   "metadata": {},
   "outputs": [],
   "source": [
    "#creating csv file\n",
    "df.to_csv('imdb.csv',index=False, header=True)"
   ]
  },
  {
   "cell_type": "code",
   "execution_count": null,
   "metadata": {},
   "outputs": [],
   "source": []
  },
  {
   "cell_type": "code",
   "execution_count": null,
   "metadata": {},
   "outputs": [],
   "source": []
  }
 ],
 "metadata": {
  "kernelspec": {
   "display_name": "Python 3",
   "language": "python",
   "name": "python3"
  },
  "language_info": {
   "codemirror_mode": {
    "name": "ipython",
    "version": 3
   },
   "file_extension": ".py",
   "mimetype": "text/x-python",
   "name": "python",
   "nbconvert_exporter": "python",
   "pygments_lexer": "ipython3",
   "version": "3.7.4"
  }
 },
 "nbformat": 4,
 "nbformat_minor": 2
}
